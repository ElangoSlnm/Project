{
 "cells": [
  {
   "cell_type": "code",
   "execution_count": 189,
   "metadata": {},
   "outputs": [],
   "source": [
    "from flask import request, jsonify, Flask, Response, render_template\n",
    "from flask_cors import CORS\n",
    "\n",
    "import requests\n",
    "\n",
    "from sklearn.decomposition import PCA\n",
    "from sklearn.cluster import KMeans\n",
    "from matplotlib.cbook import boxplot_stats\n",
    "import matplotlib.pyplot as plt\n",
    "\n",
    "from elasticsearch import Elasticsearch\n",
    "\n",
    "import tensorflow_hub as hub\n",
    "\n",
    "import numpy as np\n",
    "import pandas as pd\n",
    "import json"
   ]
  },
  {
   "cell_type": "code",
   "execution_count": 190,
   "metadata": {},
   "outputs": [],
   "source": [
    "from sklearn.manifold import TSNE\n",
    "from scipy.spatial.distance import pdist \n",
    "from numpyencoder import NumpyEncoder"
   ]
  },
  {
   "cell_type": "code",
   "execution_count": 191,
   "metadata": {},
   "outputs": [],
   "source": [
    "embed = hub.load('./model')\n",
    "def get_use_vector(keyword):\n",
    "    return np.array(embed([keyword])).tolist()[0]"
   ]
  },
  {
   "cell_type": "code",
   "execution_count": 251,
   "metadata": {},
   "outputs": [],
   "source": [
    "def get_knn_query(field, vector, limit):\n",
    "    data_query={\n",
    "        \"size\": limit,\n",
    "        \"query\": {\n",
    "            \"knn\": {\n",
    "                f\"{field}\": {\n",
    "                    \"vector\": vector,\n",
    "                    \"k\": limit\n",
    "                }\n",
    "            }\n",
    "        },\n",
    "        \"_source\": [\n",
    "            \"bookId\", \"title\", \"authors\", \"num_pages\", \"published_year\", \"publisher\", field\n",
    "        ]\n",
    "    }\n",
    "    return data_query"
   ]
  },
  {
   "cell_type": "code",
   "execution_count": 279,
   "metadata": {},
   "outputs": [],
   "source": [
    "def get_match_query(field, inputs, limit):\n",
    "    data_query={\n",
    "        \"size\": limit,\n",
    "        \"query\": {\n",
    "             \"match\": {field: inputs }\n",
    "        },\n",
    "        \"_source\": [\n",
    "            \"bookId\", \"title\", \"authors\", \"language_code\", \"num_pages\", \"published_year\", \"publisher\"\n",
    "        ]\n",
    "    }\n",
    "    return data_query"
   ]
  },
  {
   "cell_type": "code",
   "execution_count": 280,
   "metadata": {},
   "outputs": [],
   "source": [
    "def el_get_data(index, field, inputs, limit, term=\"knn\"):\n",
    "\n",
    "    headers={'Accept': 'application/json', 'Content-type': 'application/json'}\n",
    "    elastic_url =f\"http://52.66.250.236:9200/{index}/_search\"\n",
    "\n",
    "    if term == \"knn\":\n",
    "        _body= get_knn_query(field, inputs, limit)\n",
    "        print('knn')\n",
    "    else:\n",
    "        _body= get_match_query(field, inputs, limit)\n",
    "        print(_body)\n",
    "        \n",
    "    response = requests.get(elastic_url, data=json.dumps(_body), auth=('admin','admin'), verify=False, headers=headers)\n",
    "    return response.text"
   ]
  },
  {
   "cell_type": "code",
   "execution_count": 300,
   "metadata": {},
   "outputs": [],
   "source": [
    "def predict_outlier(df, cols, out=''):\n",
    "    for idx, col in enumerate(cols):\n",
    "        q1  = df[col].quantile(0.25) \n",
    "        q3  = df[col].quantile(0.75)\n",
    "        iqr = q3 - q1    #IQR is interquartile range.\n",
    "        df[f\"{out}_is_outlier_{idx}\"] = (df[col] < q1 - 1.5 * iqr) | (df[col] > q3 + 1.5 *iqr)\n",
    "    return df"
   ]
  },
  {
   "cell_type": "code",
   "execution_count": 332,
   "metadata": {},
   "outputs": [],
   "source": [
    "def get_tsne_chart_data(book_data, keyword_embeded, keyword, num):\n",
    "    \n",
    "        result={}\n",
    "        \n",
    "        book_data.insert(0, [1,keyword_embeded, keyword])\n",
    "        df = pd.DataFrame(book_data, columns = ['bookId', 'vector', 'title'])\n",
    "        embeddings = [np.asarray(item, dtype=np.float32) for item in df.vector]\n",
    "        \n",
    "        tsne = PCA(n_components=2, random_state=0)\n",
    "        df['x_tsne'], df['y_tsne'] = zip(*tsne.fit_transform(X=embeddings))\n",
    "        book_points=np.array(df[['x_tsne', 'y_tsne']]).tolist()\n",
    "        title = df['title'].to_list()\n",
    "        \n",
    "        if num > 0:\n",
    "            result['scatter'] = {\n",
    "                    'keys':book_points[0], 'title':title, 'book':book_points[1:-num], 'corpus':book_points[-num:]\n",
    "                }\n",
    "        else:\n",
    "            result['scatter'] = {\n",
    "                    'keys':book_points[0], 'title':title, 'book':book_points[1:], 'corpus':[]\n",
    "                }\n",
    "        return result"
   ]
  },
  {
   "cell_type": "code",
   "execution_count": 333,
   "metadata": {},
   "outputs": [],
   "source": [
    "def json_response(j_str):\n",
    "    j_data = json.loads(j_str)\n",
    "    if 'hits' in j_data and 'hits' in j_data['hits']:\n",
    "        data={'status':True, 'is_knn': False}\n",
    "        data['result']=j_data['hits']['hits']\n",
    "    else:\n",
    "        data={'status':False, 'error': j_str}\n",
    "        \n",
    "    return json.dumps(data)"
   ]
  },
  {
   "cell_type": "code",
   "execution_count": 351,
   "metadata": {},
   "outputs": [],
   "source": [
    "def get_book_data(j_str, field):\n",
    "    j_data = json.loads(j_str)\n",
    "    if 'hits' in j_data and 'hits' in j_data['hits']:\n",
    "        data={'status':True}\n",
    "        result=j_data['hits']['hits']\n",
    "        data['chart']=[[item['_source']['bookId'], item['_source'].pop(field), item['_source']['title']] for item in result]\n",
    "        data['result']=result\n",
    "        return data\n",
    "    else:\n",
    "        data={'status':False, 'error': j_str}"
   ]
  },
  {
   "cell_type": "code",
   "execution_count": 363,
   "metadata": {},
   "outputs": [],
   "source": [
    "def get_similar_books(index, keyword, field, limit, term, num):\n",
    "\n",
    "    if term == \"knn\":\n",
    "        _input = get_use_vector(keyword)\n",
    "    else:\n",
    "        _input = keyword\n",
    "\n",
    "    book_data = el_get_data(index, field, _input, limit, term)\n",
    "#     return book_data\n",
    "    if term == \"knn\":\n",
    "        j_data = get_book_data(book_data, field)\n",
    "        j_data['chart_data'] = get_tsne_chart_data(j_data.pop('chart'), _input, keyword, num)\n",
    "        j_data['is_knn'] = True\n",
    "        j_data = json.dumps(j_data, cls=NumpyEncoder)\n",
    "    else:\n",
    "        j_data = json_response(book_data)\n",
    "    return j_data"
   ]
  },
  {
   "cell_type": "code",
   "execution_count": 364,
   "metadata": {},
   "outputs": [],
   "source": [
    "def write_to_file(data):\n",
    "    with open('visiters.json', 'a') as jf:\n",
    "        jf.write(f\"{json.dumps(data)}\\n\")"
   ]
  },
  {
   "cell_type": "code",
   "execution_count": 365,
   "metadata": {},
   "outputs": [],
   "source": [
    "app = Flask(__name__)\n",
    "CORS(app)\n",
    "\n",
    "@app.route('/', methods=['GET'])\n",
    "def home():\n",
    "    return \"<h1>Patent K-NN Search</h1><p>This site is a prototype API for get K-NN Patent.</p>\"\n",
    "\n",
    "@app.route('/search', methods=['GET', 'POST'])\n",
    "def search():\n",
    "    index = request.args.get('index')\n",
    "    keyword = request.args.get('keyword')\n",
    "    field = request.args.get('field')\n",
    "    limit = int(request.args.get('limit', 3))\n",
    "    term = request.args.get('term','text')\n",
    "    num = int(request.args.get('num', 1))\n",
    "    location = request.args.get('location')\n",
    "\n",
    "    print(f\"index={index},keyword={keyword},filed={field},limit={limit},term={term}\")\n",
    "    \n",
    "    \n",
    "    user_dic = {\n",
    "        'index': index,\n",
    "        'keyword': keyword,\n",
    "        'field': field,\n",
    "        'limit': limit,\n",
    "        'term': term,\n",
    "        'num': num,\n",
    "        'location': location\n",
    "    }\n",
    "\n",
    "    write_to_file(user_dic)\n",
    "    \n",
    "    j_str = get_similar_books(index, keyword, field, limit+num, term, num)\n",
    "\n",
    "    return Response(j_str,  mimetype='application/json')"
   ]
  },
  {
   "cell_type": "code",
   "execution_count": null,
   "metadata": {
    "scrolled": true,
    "tags": []
   },
   "outputs": [
    {
     "name": "stderr",
     "output_type": "stream",
     "text": [
      "INFO:werkzeug: * Running on http://0.0.0.0:3000/ (Press CTRL+C to quit)\n",
      "INFO:werkzeug:223.182.209.186 - - [12/Nov/2020 08:38:37] \"\u001b[37mGET /search?index=books_lexical&keyword=sample&field=title_vec&limit=10&term=knn&num=0&location=null HTTP/1.1\u001b[0m\" 200 -\n"
     ]
    },
    {
     "name": "stdout",
     "output_type": "stream",
     "text": [
      "index=books_lexical,keyword=sample,filed=title_vec,limit=10,term=knn\n",
      "knn\n"
     ]
    },
    {
     "name": "stderr",
     "output_type": "stream",
     "text": [
      "INFO:werkzeug:117.194.166.70 - - [12/Nov/2020 08:39:12] \"\u001b[37mGET /search?index=books_lexical&keyword=test&field=title_vec&limit=10&term=knn&num=0&location=null HTTP/1.1\u001b[0m\" 200 -\n"
     ]
    },
    {
     "name": "stdout",
     "output_type": "stream",
     "text": [
      "index=books_lexical,keyword=test,filed=title_vec,limit=10,term=knn\n",
      "knn\n"
     ]
    },
    {
     "name": "stderr",
     "output_type": "stream",
     "text": [
      "INFO:werkzeug:117.196.6.151 - - [12/Nov/2020 08:39:20] \"\u001b[37mGET /search?index=books_lexical&keyword=woman%20related%20books&field=title_vec&limit=10&term=knn&num=0&location=null HTTP/1.1\u001b[0m\" 200 -\n"
     ]
    },
    {
     "name": "stdout",
     "output_type": "stream",
     "text": [
      "index=books_lexical,keyword=woman related books,filed=title_vec,limit=10,term=knn\n",
      "knn\n"
     ]
    },
    {
     "name": "stderr",
     "output_type": "stream",
     "text": [
      "INFO:werkzeug:117.196.6.151 - - [12/Nov/2020 08:40:07] \"\u001b[37mGET /search?index=books_lexical&keyword=woman%20related%20books&field=title_vec&limit=10&term=knn&num=0&location=null HTTP/1.1\u001b[0m\" 200 -\n"
     ]
    },
    {
     "name": "stdout",
     "output_type": "stream",
     "text": [
      "index=books_lexical,keyword=woman related books,filed=title_vec,limit=10,term=knn\n",
      "knn\n"
     ]
    },
    {
     "name": "stderr",
     "output_type": "stream",
     "text": [
      "INFO:werkzeug:223.182.209.186 - - [12/Nov/2020 08:40:10] \"\u001b[37mGET /search?index=books_lexical&keyword=sample&field=title_vec&limit=10&term=knn&num=0&location=null HTTP/1.1\u001b[0m\" 200 -\n"
     ]
    },
    {
     "name": "stdout",
     "output_type": "stream",
     "text": [
      "index=books_lexical,keyword=sample,filed=title_vec,limit=10,term=knn\n",
      "knn\n"
     ]
    },
    {
     "name": "stderr",
     "output_type": "stream",
     "text": [
      "INFO:werkzeug:117.194.166.70 - - [12/Nov/2020 08:42:13] \"\u001b[37mGET /search?index=books_lexical&keyword=women&field=title_vec&limit=10&term=knn&num=0&location=null HTTP/1.1\u001b[0m\" 200 -\n"
     ]
    },
    {
     "name": "stdout",
     "output_type": "stream",
     "text": [
      "index=books_lexical,keyword=women,filed=title_vec,limit=10,term=knn\n",
      "knn\n"
     ]
    },
    {
     "name": "stderr",
     "output_type": "stream",
     "text": [
      "INFO:werkzeug:117.194.166.70 - - [12/Nov/2020 08:42:18] \"\u001b[37mGET /search?index=books_lexical&keyword=women&field=title_vec&limit=10&term=knn&num=0&location=null HTTP/1.1\u001b[0m\" 200 -\n"
     ]
    },
    {
     "name": "stdout",
     "output_type": "stream",
     "text": [
      "index=books_lexical,keyword=women,filed=title_vec,limit=10,term=knn\n",
      "knn\n"
     ]
    },
    {
     "name": "stderr",
     "output_type": "stream",
     "text": [
      "INFO:werkzeug:223.182.209.186 - - [12/Nov/2020 08:42:21] \"\u001b[37mGET /search?index=books_lexical&keyword=Sample&field=title_vec&limit=10&term=knn&num=0&location=null HTTP/1.1\u001b[0m\" 200 -\n"
     ]
    },
    {
     "name": "stdout",
     "output_type": "stream",
     "text": [
      "index=books_lexical,keyword=Sample,filed=title_vec,limit=10,term=knn\n",
      "knn\n"
     ]
    },
    {
     "name": "stderr",
     "output_type": "stream",
     "text": [
      "INFO:werkzeug:117.196.6.151 - - [12/Nov/2020 08:44:09] \"\u001b[37mGET /search?index=books_lexical&keyword=woman%20related%20book&field=title_vec&limit=10&term=knn&num=0&location=null HTTP/1.1\u001b[0m\" 200 -\n"
     ]
    },
    {
     "name": "stdout",
     "output_type": "stream",
     "text": [
      "index=books_lexical,keyword=woman related book,filed=title_vec,limit=10,term=knn\n",
      "knn\n"
     ]
    },
    {
     "name": "stderr",
     "output_type": "stream",
     "text": [
      "INFO:werkzeug:223.182.209.186 - - [12/Nov/2020 08:45:32] \"\u001b[37mGET /search?index=books_lexical&keyword=sample&field=title_vec&limit=10&term=knn&num=0&location=null HTTP/1.1\u001b[0m\" 200 -\n"
     ]
    },
    {
     "name": "stdout",
     "output_type": "stream",
     "text": [
      "index=books_lexical,keyword=sample,filed=title_vec,limit=10,term=knn\n",
      "knn\n"
     ]
    },
    {
     "name": "stderr",
     "output_type": "stream",
     "text": [
      "INFO:werkzeug:223.182.209.186 - - [12/Nov/2020 08:45:36] \"\u001b[37mGET /search?index=books_lexical&keyword=sample&field=title_vec&limit=10&term=knn&num=0&location=[object%20Object] HTTP/1.1\u001b[0m\" 200 -\n"
     ]
    },
    {
     "name": "stdout",
     "output_type": "stream",
     "text": [
      "index=books_lexical,keyword=sample,filed=title_vec,limit=10,term=knn\n",
      "knn\n"
     ]
    },
    {
     "name": "stderr",
     "output_type": "stream",
     "text": [
      "INFO:werkzeug:117.194.166.70 - - [12/Nov/2020 08:45:37] \"\u001b[37mGET /search?index=books_lexical&keyword=women%20related&field=title_vec&limit=10&term=knn&num=0&location=null HTTP/1.1\u001b[0m\" 200 -\n"
     ]
    },
    {
     "name": "stdout",
     "output_type": "stream",
     "text": [
      "index=books_lexical,keyword=women related,filed=title_vec,limit=10,term=knn\n",
      "knn\n"
     ]
    },
    {
     "name": "stderr",
     "output_type": "stream",
     "text": [
      "INFO:werkzeug:223.182.209.186 - - [12/Nov/2020 08:45:59] \"\u001b[37mGET /search?index=books_lexical&keyword=sample&field=title_vec&limit=10&term=knn&num=0&location=[object%20Object] HTTP/1.1\u001b[0m\" 200 -\n"
     ]
    },
    {
     "name": "stdout",
     "output_type": "stream",
     "text": [
      "index=books_lexical,keyword=sample,filed=title_vec,limit=10,term=knn\n",
      "knn\n"
     ]
    },
    {
     "name": "stderr",
     "output_type": "stream",
     "text": [
      "INFO:werkzeug:223.182.209.186 - - [12/Nov/2020 08:46:01] \"\u001b[37mGET /search?index=books_lexical&keyword=sample&field=title_vec&limit=10&term=knn&num=0&location=[object%20Object] HTTP/1.1\u001b[0m\" 200 -\n"
     ]
    },
    {
     "name": "stdout",
     "output_type": "stream",
     "text": [
      "index=books_lexical,keyword=sample,filed=title_vec,limit=10,term=knn\n",
      "knn\n"
     ]
    },
    {
     "name": "stderr",
     "output_type": "stream",
     "text": [
      "INFO:werkzeug:223.182.209.186 - - [12/Nov/2020 08:46:04] \"\u001b[37mGET /search?index=books_lexical&keyword=sample&field=title_vec&limit=10&term=knn&num=0&location=[object%20Object] HTTP/1.1\u001b[0m\" 200 -\n"
     ]
    },
    {
     "name": "stdout",
     "output_type": "stream",
     "text": [
      "index=books_lexical,keyword=sample,filed=title_vec,limit=10,term=knn\n",
      "knn\n"
     ]
    },
    {
     "name": "stderr",
     "output_type": "stream",
     "text": [
      "INFO:werkzeug:117.194.166.70 - - [12/Nov/2020 08:46:28] \"\u001b[37mGET /search?index=books_lexical&keyword=aaa&field=title_vec&limit=10&term=knn&num=0&location=null HTTP/1.1\u001b[0m\" 200 -\n"
     ]
    },
    {
     "name": "stdout",
     "output_type": "stream",
     "text": [
      "index=books_lexical,keyword=aaa,filed=title_vec,limit=10,term=knn\n",
      "knn\n"
     ]
    },
    {
     "name": "stderr",
     "output_type": "stream",
     "text": [
      "INFO:werkzeug:117.194.166.70 - - [12/Nov/2020 08:46:51] \"\u001b[37mGET /search?index=books_lexical&keyword=aaa&field=title_vec&limit=10&term=knn&num=0&location=null HTTP/1.1\u001b[0m\" 200 -\n"
     ]
    },
    {
     "name": "stdout",
     "output_type": "stream",
     "text": [
      "index=books_lexical,keyword=aaa,filed=title_vec,limit=10,term=knn\n",
      "knn\n"
     ]
    },
    {
     "name": "stderr",
     "output_type": "stream",
     "text": [
      "INFO:werkzeug:117.194.166.70 - - [12/Nov/2020 08:46:53] \"\u001b[37mGET /search?index=books_lexical&keyword=aaa&field=title_vec&limit=10&term=knn&num=0&location=null HTTP/1.1\u001b[0m\" 200 -\n"
     ]
    },
    {
     "name": "stdout",
     "output_type": "stream",
     "text": [
      "index=books_lexical,keyword=aaa,filed=title_vec,limit=10,term=knn\n",
      "knn\n"
     ]
    },
    {
     "name": "stderr",
     "output_type": "stream",
     "text": [
      "INFO:werkzeug:117.196.6.151 - - [12/Nov/2020 08:47:09] \"\u001b[37mGET /search?index=books_lexical&keyword=religion%20based%20books&field=title_vec&limit=10&term=knn&num=0&location=null HTTP/1.1\u001b[0m\" 200 -\n"
     ]
    },
    {
     "name": "stdout",
     "output_type": "stream",
     "text": [
      "index=books_lexical,keyword=religion based books,filed=title_vec,limit=10,term=knn\n",
      "knn\n"
     ]
    }
   ],
   "source": [
    "if __name__ == '__main__':\n",
    "    from werkzeug.serving import run_simple\n",
    "    run_simple('0.0.0.0', 3000, app, threaded=True)\n",
    "    # app.run(host='0.0.0.0', port=1212, threaded=True)"
   ]
  }
 ],
 "metadata": {
  "kernelspec": {
   "display_name": "Python 3",
   "language": "python",
   "name": "python3"
  },
  "language_info": {
   "codemirror_mode": {
    "name": "ipython",
    "version": 3
   },
   "file_extension": ".py",
   "mimetype": "text/x-python",
   "name": "python",
   "nbconvert_exporter": "python",
   "pygments_lexer": "ipython3",
   "version": "3.8.5"
  }
 },
 "nbformat": 4,
 "nbformat_minor": 2
}
